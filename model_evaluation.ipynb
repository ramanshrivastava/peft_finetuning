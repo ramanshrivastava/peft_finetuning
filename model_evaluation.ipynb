{
 "cells": [
  {
   "cell_type": "code",
   "execution_count": null,
   "metadata": {},
   "outputs": [],
   "source": [
    "from src.load_preprocess_dataset import load_tokenize_data\n",
    "from src.evaluation_metric import compute_metrics\n",
    "from src.foundation_model_evaluation import foundation_model_eval\n",
    "from src.finetune_lora import lora_model_tune_eval\n",
    "from src.finetuned_infer import predict_emotion\n",
    "\n",
    "def main():\n",
    "    #configuration\n",
    "    dataset_name = \"emotion\"\n",
    "    model_name = \"gpt2\"\n",
    "    num_labels = 6\n",
    "    text = \"im feeling quite sad and sorry for myself but ill snap out of it soon\"\n",
    "    model_checkpoint = \"./models/fine_tuned/checkpoint-4000\"\n",
    "\n",
    "    #tokenized data\n",
    "    tokenized_datset = load_tokenize_data(dataset_name, model_name)\n",
    "    print(tokenized_datset)\n",
    "    eval_dataset = tokenized_datset[\"validation\"]\n",
    "\n",
    "    #evaluate foundation model\n",
    "    results = foundation_model_eval(model_name,eval_dataset, num_labels, compute_metrics)\n",
    "    print(\"FOUNDATION model metrics\", results)\n",
    "\n",
    "    #fine-tune foundation model using lora and evaluate fine-tuned model\n",
    "    results_tuned = lora_model_tune_eval(model_name, tokenized_datset, num_labels, compute_metrics)\n",
    "    print(\"TUNED model metrics\", results_tuned)\n",
    "\n",
    "    #predict emotion\n",
    "    predicted_class = predict_emotion(text, model_checkpoint)\n",
    "    print(\"Predicted emotion class:\", predicted_class)\n",
    "\n",
    "if __name__ == \"__main__\":\n",
    "    main()"
   ]
  },
  {
   "cell_type": "code",
   "execution_count": null,
   "metadata": {},
   "outputs": [],
   "source": []
  }
 ],
 "metadata": {
  "kernelspec": {
   "display_name": "huggingface_env",
   "language": "python",
   "name": "python3"
  },
  "language_info": {
   "codemirror_mode": {
    "name": "ipython",
    "version": 3
   },
   "file_extension": ".py",
   "mimetype": "text/x-python",
   "name": "python",
   "nbconvert_exporter": "python",
   "pygments_lexer": "ipython3",
   "version": "3.9.6"
  }
 },
 "nbformat": 4,
 "nbformat_minor": 2
}
